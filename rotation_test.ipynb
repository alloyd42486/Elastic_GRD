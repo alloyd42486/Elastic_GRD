{
 "cells": [
  {
   "cell_type": "code",
   "execution_count": 58,
   "id": "c10a4dcf",
   "metadata": {},
   "outputs": [
    {
     "name": "stdout",
     "output_type": "stream",
     "text": [
      "The autoreload extension is already loaded. To reload it, use:\n",
      "  %reload_ext autoreload\n"
     ]
    }
   ],
   "source": [
    "%load_ext autoreload\n",
    "%autoreload 2\n",
    "\n",
    "# import libraries\n",
    "import numpy as np\n",
    "import matplotlib.pyplot as plt\n",
    "import pyshtools as pysh\n",
    "import SLmod as SL\n",
    "from numpy import pi as pi\n",
    "\n",
    "#set plotting parameters\n",
    "plt.rc('xtick', labelsize=18) \n",
    "plt.rc('ytick', labelsize=18) \n",
    "font = {'size'   : 20}\n",
    "plt.rc('font', **font)\n",
    "plt.rcParams['figure.figsize'] = [16, 8]"
   ]
  },
  {
   "cell_type": "code",
   "execution_count": 78,
   "id": "fc81b167",
   "metadata": {},
   "outputs": [
    {
     "name": "stdout",
     "output_type": "stream",
     "text": [
      "-9.57148215874225e-17\n",
      "0.9999999999999999\n"
     ]
    }
   ],
   "source": [
    "def psi_lm_calc(om,L = 2):\n",
    "    psi = pysh.SHGrid.from_zeros(lmax=L)\n",
    "    ilat = 0\n",
    "    for lat in psi.lats():\n",
    "        th = (90-lat)*pi/180\n",
    "        fac = np.cos(th)*np.sin(th)\n",
    "        ilon = 0\n",
    "        for lon in psi.lons():\n",
    "            ph = lon*pi/180\n",
    "            psi.data[ilat,ilon] = fac*(om[0]*np.cos(ph) + om[1]*np.sin(ph))\n",
    "            ilon += 1\n",
    "        ilat += 1\n",
    "    psi_lm = psi.expand(lmax_calc = 2,normalization = 'ortho')\n",
    "    return psi_lm\n",
    "\n",
    "om = np.zeros(2)\n",
    "om[1] = 1\n",
    "psi_lm = psi_lm_calc(om)*np.sqrt(15/(4*pi))\n",
    "print(psi_lm.coeffs[0,2,1])\n",
    "print(psi_lm.coeffs[1,2,1])\n",
    "#psi_2m = SL.centrifugal_perturbation(om)\n",
    "#print(psi_2m[0,1])\n",
    "#print(psi_2m[1,1])\n"
   ]
  },
  {
   "cell_type": "code",
   "execution_count": 16,
   "id": "cf3c7e5c",
   "metadata": {},
   "outputs": [
    {
     "name": "stdout",
     "output_type": "stream",
     "text": [
      "[[ 9.16703587e-19+0.00000000e+00j -6.47208638e-01+9.81826947e-17j\n",
      "  -1.68409203e-18+6.73636810e-18j]\n",
      " [ 0.00000000e+00+0.00000000e+00j  6.47208638e-01+9.81826947e-17j\n",
      "  -1.68409203e-18-6.73636810e-18j]]\n"
     ]
    }
   ],
   "source": [
    "def interia_calc(L = 2):\n",
    "    f = pysh.SHGrid.from_zeros(lmax=L,kind = 'complex')\n",
    "    ilat = 0\n",
    "    for lat in f.lats():\n",
    "        th = (90-lat)*pi/180\n",
    "        ilon = 0\n",
    "        for lon in f.lons():\n",
    "            ph = lon*pi/180\n",
    "            f.data[ilat,ilon] = np.cos(th)*np.sin(th)*np.cos(ph)\n",
    "            ilon += 1\n",
    "        ilat += 1\n",
    "    f_lm = f.expand(lmax_calc = 2,normalization = 'ortho',csphase = -1)\n",
    "    return f_lm.coeffs[:,2,:]\n",
    "\n",
    "f_lm = interia_calc()\n",
    "print(f_lm)\n"
   ]
  },
  {
   "cell_type": "code",
   "execution_count": null,
   "id": "06e8e9c8",
   "metadata": {},
   "outputs": [],
   "source": []
  }
 ],
 "metadata": {
  "kernelspec": {
   "display_name": "Python 3",
   "language": "python",
   "name": "python3"
  },
  "language_info": {
   "codemirror_mode": {
    "name": "ipython",
    "version": 3
   },
   "file_extension": ".py",
   "mimetype": "text/x-python",
   "name": "python",
   "nbconvert_exporter": "python",
   "pygments_lexer": "ipython3",
   "version": "3.10.6"
  }
 },
 "nbformat": 4,
 "nbformat_minor": 5
}
